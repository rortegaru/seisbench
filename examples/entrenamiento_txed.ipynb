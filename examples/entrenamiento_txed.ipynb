{
 "cells": [
  {
   "cell_type": "code",
   "execution_count": 1,
   "metadata": {},
   "outputs": [],
   "source": [
    "import os\n",
    "import seisbench\n",
    "import seisbench.data as sbd\n",
    "import seisbench.models as sbm\n",
    "import seisbench.generate as sbg\n",
    "from seisbench.util import worker_seeding\n",
    "\n",
    "import torch\n",
    "from torch.utils.data import DataLoader\n",
    "import numpy as np\n",
    "import pandas as pd\n",
    "import matplotlib.pyplot as plt\n",
    "\n",
    "from obspy.clients.fdsn import Client\n",
    "from obspy import UTCDateTime"
   ]
  },
  {
   "cell_type": "markdown",
   "metadata": {},
   "source": [
    "### Modificacion de archivo de metadatos"
   ]
  },
  {
   "cell_type": "code",
   "execution_count": 2,
   "metadata": {},
   "outputs": [
    {
     "data": {
      "text/html": [
       "<div>\n",
       "<style scoped>\n",
       "    .dataframe tbody tr th:only-of-type {\n",
       "        vertical-align: middle;\n",
       "    }\n",
       "\n",
       "    .dataframe tbody tr th {\n",
       "        vertical-align: top;\n",
       "    }\n",
       "\n",
       "    .dataframe thead th {\n",
       "        text-align: right;\n",
       "    }\n",
       "</style>\n",
       "<table border=\"1\" class=\"dataframe\">\n",
       "  <thead>\n",
       "    <tr style=\"text-align: right;\">\n",
       "      <th></th>\n",
       "      <th>trace_coda_end_sample</th>\n",
       "      <th>source_depth_km</th>\n",
       "      <th>source_latitude_deg</th>\n",
       "      <th>source_longitude_deg</th>\n",
       "      <th>source_magnitude</th>\n",
       "      <th>source_origin_time</th>\n",
       "      <th>trace_p_arrival_sample</th>\n",
       "      <th>trace_p_arrival_time</th>\n",
       "      <th>trace_p_arrival_uncertainty_s</th>\n",
       "      <th>trace_s_arrival_sample</th>\n",
       "      <th>...</th>\n",
       "      <th>station_latitude_deg</th>\n",
       "      <th>station_longitude_deg</th>\n",
       "      <th>station_code</th>\n",
       "      <th>trace_category</th>\n",
       "      <th>trace_name_original</th>\n",
       "      <th>split</th>\n",
       "      <th>trace_name</th>\n",
       "      <th>trace_causal</th>\n",
       "      <th>trace_polarity</th>\n",
       "      <th>ID_poligono</th>\n",
       "    </tr>\n",
       "  </thead>\n",
       "  <tbody>\n",
       "    <tr>\n",
       "      <th>0</th>\n",
       "      <td>1530.0</td>\n",
       "      <td>5.643115</td>\n",
       "      <td>31.244769</td>\n",
       "      <td>-103.553538</td>\n",
       "      <td>1.413654</td>\n",
       "      <td>2019-04-02T03:34:48.725819Z</td>\n",
       "      <td>1034.0</td>\n",
       "      <td>2019-04-02T03:34:52.621560Z</td>\n",
       "      <td>0.2</td>\n",
       "      <td>1282.0</td>\n",
       "      <td>...</td>\n",
       "      <td>31.408922</td>\n",
       "      <td>-103.510147</td>\n",
       "      <td>PCOS</td>\n",
       "      <td>earthquake_local</td>\n",
       "      <td>texnet2019gknw_PCOS_EV</td>\n",
       "      <td>train</td>\n",
       "      <td>bucket268$338,:3,:6000</td>\n",
       "      <td>unknown</td>\n",
       "      <td>unknown</td>\n",
       "      <td>3</td>\n",
       "    </tr>\n",
       "    <tr>\n",
       "      <th>1</th>\n",
       "      <td>646.0</td>\n",
       "      <td>3.072314</td>\n",
       "      <td>31.445149</td>\n",
       "      <td>-103.586818</td>\n",
       "      <td>1.343138</td>\n",
       "      <td>2019-04-02T15:44:47.758892Z</td>\n",
       "      <td>398.0</td>\n",
       "      <td>2019-04-02T15:44:49.774274Z</td>\n",
       "      <td>0.2</td>\n",
       "      <td>522.0</td>\n",
       "      <td>...</td>\n",
       "      <td>31.408922</td>\n",
       "      <td>-103.510147</td>\n",
       "      <td>PCOS</td>\n",
       "      <td>earthquake_local</td>\n",
       "      <td>texnet2019glly_PCOS_EV</td>\n",
       "      <td>train</td>\n",
       "      <td>bucket268$343,:3,:6000</td>\n",
       "      <td>unknown</td>\n",
       "      <td>unknown</td>\n",
       "      <td>4</td>\n",
       "    </tr>\n",
       "    <tr>\n",
       "      <th>2</th>\n",
       "      <td>1357.0</td>\n",
       "      <td>6.157275</td>\n",
       "      <td>31.274182</td>\n",
       "      <td>-103.572833</td>\n",
       "      <td>1.532322</td>\n",
       "      <td>2019-04-03T00:19:32.460730Z</td>\n",
       "      <td>863.0</td>\n",
       "      <td>2019-04-03T00:19:35.861650Z</td>\n",
       "      <td>0.3</td>\n",
       "      <td>1110.0</td>\n",
       "      <td>...</td>\n",
       "      <td>31.408922</td>\n",
       "      <td>-103.510147</td>\n",
       "      <td>PCOS</td>\n",
       "      <td>earthquake_local</td>\n",
       "      <td>texnet2019gmcy_PCOS_EV</td>\n",
       "      <td>test</td>\n",
       "      <td>bucket267$962,:3,:6000</td>\n",
       "      <td>unknown</td>\n",
       "      <td>unknown</td>\n",
       "      <td>3</td>\n",
       "    </tr>\n",
       "    <tr>\n",
       "      <th>3</th>\n",
       "      <td>1602.0</td>\n",
       "      <td>5.540283</td>\n",
       "      <td>31.253961</td>\n",
       "      <td>-103.559968</td>\n",
       "      <td>2.021868</td>\n",
       "      <td>2019-04-03T02:49:31.391207Z</td>\n",
       "      <td>962.0</td>\n",
       "      <td>2019-04-03T02:49:34.487029Z</td>\n",
       "      <td>0.3</td>\n",
       "      <td>1282.0</td>\n",
       "      <td>...</td>\n",
       "      <td>31.408922</td>\n",
       "      <td>-103.510147</td>\n",
       "      <td>PCOS</td>\n",
       "      <td>earthquake_local</td>\n",
       "      <td>texnet2019gmhw_PCOS_EV</td>\n",
       "      <td>train</td>\n",
       "      <td>bucket268$388,:3,:6000</td>\n",
       "      <td>unknown</td>\n",
       "      <td>unknown</td>\n",
       "      <td>3</td>\n",
       "    </tr>\n",
       "    <tr>\n",
       "      <th>4</th>\n",
       "      <td>959.0</td>\n",
       "      <td>6.131567</td>\n",
       "      <td>31.250054</td>\n",
       "      <td>-103.556485</td>\n",
       "      <td>1.866408</td>\n",
       "      <td>2019-04-03T04:07:27.403390Z</td>\n",
       "      <td>427.0</td>\n",
       "      <td>2019-04-03T04:07:31.281541Z</td>\n",
       "      <td>0.2</td>\n",
       "      <td>693.0</td>\n",
       "      <td>...</td>\n",
       "      <td>31.408922</td>\n",
       "      <td>-103.510147</td>\n",
       "      <td>PCOS</td>\n",
       "      <td>earthquake_local</td>\n",
       "      <td>texnet2019gmkl_PCOS_EV</td>\n",
       "      <td>train</td>\n",
       "      <td>bucket268$401,:3,:6000</td>\n",
       "      <td>unknown</td>\n",
       "      <td>unknown</td>\n",
       "      <td>3</td>\n",
       "    </tr>\n",
       "  </tbody>\n",
       "</table>\n",
       "<p>5 rows × 24 columns</p>\n",
       "</div>"
      ],
      "text/plain": [
       "   trace_coda_end_sample  source_depth_km  source_latitude_deg  \\\n",
       "0                 1530.0         5.643115            31.244769   \n",
       "1                  646.0         3.072314            31.445149   \n",
       "2                 1357.0         6.157275            31.274182   \n",
       "3                 1602.0         5.540283            31.253961   \n",
       "4                  959.0         6.131567            31.250054   \n",
       "\n",
       "   source_longitude_deg  source_magnitude           source_origin_time  \\\n",
       "0           -103.553538          1.413654  2019-04-02T03:34:48.725819Z   \n",
       "1           -103.586818          1.343138  2019-04-02T15:44:47.758892Z   \n",
       "2           -103.572833          1.532322  2019-04-03T00:19:32.460730Z   \n",
       "3           -103.559968          2.021868  2019-04-03T02:49:31.391207Z   \n",
       "4           -103.556485          1.866408  2019-04-03T04:07:27.403390Z   \n",
       "\n",
       "   trace_p_arrival_sample         trace_p_arrival_time  \\\n",
       "0                  1034.0  2019-04-02T03:34:52.621560Z   \n",
       "1                   398.0  2019-04-02T15:44:49.774274Z   \n",
       "2                   863.0  2019-04-03T00:19:35.861650Z   \n",
       "3                   962.0  2019-04-03T02:49:34.487029Z   \n",
       "4                   427.0  2019-04-03T04:07:31.281541Z   \n",
       "\n",
       "   trace_p_arrival_uncertainty_s  trace_s_arrival_sample  ...  \\\n",
       "0                            0.2                  1282.0  ...   \n",
       "1                            0.2                   522.0  ...   \n",
       "2                            0.3                  1110.0  ...   \n",
       "3                            0.3                  1282.0  ...   \n",
       "4                            0.2                   693.0  ...   \n",
       "\n",
       "  station_latitude_deg  station_longitude_deg station_code    trace_category  \\\n",
       "0            31.408922            -103.510147         PCOS  earthquake_local   \n",
       "1            31.408922            -103.510147         PCOS  earthquake_local   \n",
       "2            31.408922            -103.510147         PCOS  earthquake_local   \n",
       "3            31.408922            -103.510147         PCOS  earthquake_local   \n",
       "4            31.408922            -103.510147         PCOS  earthquake_local   \n",
       "\n",
       "      trace_name_original  split              trace_name trace_causal  \\\n",
       "0  texnet2019gknw_PCOS_EV  train  bucket268$338,:3,:6000      unknown   \n",
       "1  texnet2019glly_PCOS_EV  train  bucket268$343,:3,:6000      unknown   \n",
       "2  texnet2019gmcy_PCOS_EV   test  bucket267$962,:3,:6000      unknown   \n",
       "3  texnet2019gmhw_PCOS_EV  train  bucket268$388,:3,:6000      unknown   \n",
       "4  texnet2019gmkl_PCOS_EV  train  bucket268$401,:3,:6000      unknown   \n",
       "\n",
       "  trace_polarity ID_poligono  \n",
       "0        unknown           3  \n",
       "1        unknown           4  \n",
       "2        unknown           3  \n",
       "3        unknown           3  \n",
       "4        unknown           3  \n",
       "\n",
       "[5 rows x 24 columns]"
      ]
     },
     "execution_count": 2,
     "metadata": {},
     "output_type": "execute_result"
    }
   ],
   "source": [
    "#files location: /home/jbg/.seisbench/datasets/\n",
    "metadatos = pd.read_csv(\"resultado_sismos2.csv\")\n",
    "metadatos.head()"
   ]
  },
  {
   "cell_type": "markdown",
   "metadata": {},
   "source": [
    "metadatos[\"Source_zone\"] = np.random.randint(1,8,size=len(metadatos))\n",
    "metadatos.head()"
   ]
  },
  {
   "cell_type": "code",
   "execution_count": 3,
   "metadata": {},
   "outputs": [],
   "source": [
    "#Solo correr una vez\n",
    "#metadatos.to_csv(\"/home/jbg/.seisbench/datasets/dummydataset/metadata.csv\",index=False)"
   ]
  },
  {
   "cell_type": "markdown",
   "metadata": {},
   "source": [
    "### Descarga de datos"
   ]
  },
  {
   "cell_type": "code",
   "execution_count": 4,
   "metadata": {},
   "outputs": [
    {
     "name": "stderr",
     "output_type": "stream",
     "text": [
      "2024-08-26 13:04:02,602 | seisbench | WARNING | Output component order not specified, defaulting to 'ZNE'.\n",
      "2024-08-26 13:04:02,603 | seisbench | WARNING | Skipping preload, as cache is disabled.\n"
     ]
    },
    {
     "name": "stdout",
     "output_type": "stream",
     "text": [
      "TXED - 1046 traces\n"
     ]
    }
   ],
   "source": [
    "data = sbd.TXED() #Esta accion es recomendable hacerla en terminal pues tarda mucho\n",
    "                                #cambiar a \"full\" una vez que este completo el codigo\n",
    "#data = sbd.DummyDataset(sampling_rate=50)  #sampling_rate=100\n",
    "data.preload_waveforms(pbar=True) #importante, pbar==progressbar\n",
    "print(data)"
   ]
  },
  {
   "cell_type": "code",
   "execution_count": 5,
   "metadata": {},
   "outputs": [
    {
     "name": "stderr",
     "output_type": "stream",
     "text": [
      "/opt/miniforge3/envs/seisbench/lib/python3.10/site-packages/cartopy/io/__init__.py:241: DownloadWarning: Downloading: https://naturalearth.s3.amazonaws.com/110m_physical/ne_110m_coastline.zip\n",
      "  warnings.warn(f'Downloading: {url}', DownloadWarning)\n",
      "/opt/miniforge3/envs/seisbench/lib/python3.10/site-packages/cartopy/io/__init__.py:241: DownloadWarning: Downloading: https://naturalearth.s3.amazonaws.com/110m_physical/ne_110m_land.zip\n",
      "  warnings.warn(f'Downloading: {url}', DownloadWarning)\n"
     ]
    },
    {
     "data": {
      "image/png": "[encoded data removed]",
      "text/plain": [
       "<Figure size 1500x1000 with 1 Axes>"
      ]
     },
     "metadata": {},
     "output_type": "display_data"
    }
   ],
   "source": [
    "data.plot_map();"
   ]
  },
  {
   "cell_type": "code",
   "execution_count": 6,
   "metadata": {},
   "outputs": [
    {
     "name": "stdout",
     "output_type": "stream",
     "text": [
      "Cache root: /Users/roberto/.seisbench\n",
      "Contents: ['config.json', 'datasets']\n",
      "datasets: ['txed']\n",
      "dummydataset: ['metadata.bak', 'waveforms.hdf5', 'metadata.csv', 'resultado_sismos2.csv']\n"
     ]
    }
   ],
   "source": [
    "print(\"Cache root:\", seisbench.cache_root)\n",
    "print(\"Contents:\", os.listdir(seisbench.cache_root))\n",
    "print(\"datasets:\", os.listdir(seisbench.cache_root / \"datasets\"))\n",
    "print(\"dummydataset:\", os.listdir(seisbench.cache_root / \"datasets\" / \"txed\"))"
   ]
  },
  {
   "cell_type": "markdown",
   "metadata": {},
   "source": [
    "### Metadatos"
   ]
  },
  {
   "cell_type": "code",
   "execution_count": 7,
   "metadata": {},
   "outputs": [
    {
     "data": {
      "text/html": [
       "<div>\n",
       "<style scoped>\n",
       "    .dataframe tbody tr th:only-of-type {\n",
       "        vertical-align: middle;\n",
       "    }\n",
       "\n",
       "    .dataframe tbody tr th {\n",
       "        vertical-align: top;\n",
       "    }\n",
       "\n",
       "    .dataframe thead th {\n",
       "        text-align: right;\n",
       "    }\n",
       "</style>\n",
       "<table border=\"1\" class=\"dataframe\">\n",
       "  <thead>\n",
       "    <tr style=\"text-align: right;\">\n",
       "      <th></th>\n",
       "      <th>index</th>\n",
       "      <th>trace_coda_end_sample</th>\n",
       "      <th>source_depth_km</th>\n",
       "      <th>source_latitude_deg</th>\n",
       "      <th>source_longitude_deg</th>\n",
       "      <th>source_magnitude</th>\n",
       "      <th>source_origin_time</th>\n",
       "      <th>trace_p_arrival_sample</th>\n",
       "      <th>trace_p_arrival_time</th>\n",
       "      <th>trace_p_arrival_uncertainty_s</th>\n",
       "      <th>...</th>\n",
       "      <th>trace_category</th>\n",
       "      <th>trace_name_original</th>\n",
       "      <th>split</th>\n",
       "      <th>trace_name</th>\n",
       "      <th>trace_causal</th>\n",
       "      <th>trace_polarity</th>\n",
       "      <th>ID_poligono</th>\n",
       "      <th>trace_chunk</th>\n",
       "      <th>trace_sampling_rate_hz</th>\n",
       "      <th>trace_component_order</th>\n",
       "    </tr>\n",
       "  </thead>\n",
       "  <tbody>\n",
       "    <tr>\n",
       "      <th>0</th>\n",
       "      <td>0</td>\n",
       "      <td>1530.0</td>\n",
       "      <td>5.643115</td>\n",
       "      <td>31.244769</td>\n",
       "      <td>-103.553538</td>\n",
       "      <td>1.413654</td>\n",
       "      <td>2019-04-02T03:34:48.725819Z</td>\n",
       "      <td>1034.0</td>\n",
       "      <td>2019-04-02T03:34:52.621560Z</td>\n",
       "      <td>0.2</td>\n",
       "      <td>...</td>\n",
       "      <td>earthquake_local</td>\n",
       "      <td>texnet2019gknw_PCOS_EV</td>\n",
       "      <td>train</td>\n",
       "      <td>bucket268$338,:3,:6000</td>\n",
       "      <td>unknown</td>\n",
       "      <td>unknown</td>\n",
       "      <td>3</td>\n",
       "      <td></td>\n",
       "      <td>100</td>\n",
       "      <td>ZNE</td>\n",
       "    </tr>\n",
       "    <tr>\n",
       "      <th>1</th>\n",
       "      <td>1</td>\n",
       "      <td>646.0</td>\n",
       "      <td>3.072314</td>\n",
       "      <td>31.445149</td>\n",
       "      <td>-103.586818</td>\n",
       "      <td>1.343138</td>\n",
       "      <td>2019-04-02T15:44:47.758892Z</td>\n",
       "      <td>398.0</td>\n",
       "      <td>2019-04-02T15:44:49.774274Z</td>\n",
       "      <td>0.2</td>\n",
       "      <td>...</td>\n",
       "      <td>earthquake_local</td>\n",
       "      <td>texnet2019glly_PCOS_EV</td>\n",
       "      <td>train</td>\n",
       "      <td>bucket268$343,:3,:6000</td>\n",
       "      <td>unknown</td>\n",
       "      <td>unknown</td>\n",
       "      <td>4</td>\n",
       "      <td></td>\n",
       "      <td>100</td>\n",
       "      <td>ZNE</td>\n",
       "    </tr>\n",
       "    <tr>\n",
       "      <th>2</th>\n",
       "      <td>2</td>\n",
       "      <td>1357.0</td>\n",
       "      <td>6.157275</td>\n",
       "      <td>31.274182</td>\n",
       "      <td>-103.572833</td>\n",
       "      <td>1.532322</td>\n",
       "      <td>2019-04-03T00:19:32.460730Z</td>\n",
       "      <td>863.0</td>\n",
       "      <td>2019-04-03T00:19:35.861650Z</td>\n",
       "      <td>0.3</td>\n",
       "      <td>...</td>\n",
       "      <td>earthquake_local</td>\n",
       "      <td>texnet2019gmcy_PCOS_EV</td>\n",
       "      <td>test</td>\n",
       "      <td>bucket267$962,:3,:6000</td>\n",
       "      <td>unknown</td>\n",
       "      <td>unknown</td>\n",
       "      <td>3</td>\n",
       "      <td></td>\n",
       "      <td>100</td>\n",
       "      <td>ZNE</td>\n",
       "    </tr>\n",
       "    <tr>\n",
       "      <th>3</th>\n",
       "      <td>3</td>\n",
       "      <td>1602.0</td>\n",
       "      <td>5.540283</td>\n",
       "      <td>31.253961</td>\n",
       "      <td>-103.559968</td>\n",
       "      <td>2.021868</td>\n",
       "      <td>2019-04-03T02:49:31.391207Z</td>\n",
       "      <td>962.0</td>\n",
       "      <td>2019-04-03T02:49:34.487029Z</td>\n",
       "      <td>0.3</td>\n",
       "      <td>...</td>\n",
       "      <td>earthquake_local</td>\n",
       "      <td>texnet2019gmhw_PCOS_EV</td>\n",
       "      <td>train</td>\n",
       "      <td>bucket268$388,:3,:6000</td>\n",
       "      <td>unknown</td>\n",
       "      <td>unknown</td>\n",
       "      <td>3</td>\n",
       "      <td></td>\n",
       "      <td>100</td>\n",
       "      <td>ZNE</td>\n",
       "    </tr>\n",
       "    <tr>\n",
       "      <th>4</th>\n",
       "      <td>4</td>\n",
       "      <td>959.0</td>\n",
       "      <td>6.131567</td>\n",
       "      <td>31.250054</td>\n",
       "      <td>-103.556485</td>\n",
       "      <td>1.866408</td>\n",
       "      <td>2019-04-03T04:07:27.403390Z</td>\n",
       "      <td>427.0</td>\n",
       "      <td>2019-04-03T04:07:31.281541Z</td>\n",
       "      <td>0.2</td>\n",
       "      <td>...</td>\n",
       "      <td>earthquake_local</td>\n",
       "      <td>texnet2019gmkl_PCOS_EV</td>\n",
       "      <td>train</td>\n",
       "      <td>bucket268$401,:3,:6000</td>\n",
       "      <td>unknown</td>\n",
       "      <td>unknown</td>\n",
       "      <td>3</td>\n",
       "      <td></td>\n",
       "      <td>100</td>\n",
       "      <td>ZNE</td>\n",
       "    </tr>\n",
       "    <tr>\n",
       "      <th>5</th>\n",
       "      <td>5</td>\n",
       "      <td>1021.0</td>\n",
       "      <td>5.643115</td>\n",
       "      <td>31.256718</td>\n",
       "      <td>-103.544963</td>\n",
       "      <td>1.864792</td>\n",
       "      <td>2019-04-03T04:49:40.161684Z</td>\n",
       "      <td>435.0</td>\n",
       "      <td>2019-04-03T04:49:43.337664Z</td>\n",
       "      <td>0.4</td>\n",
       "      <td>...</td>\n",
       "      <td>earthquake_local</td>\n",
       "      <td>texnet2019gmlv_PCOS_EV</td>\n",
       "      <td>train</td>\n",
       "      <td>bucket268$412,:3,:6000</td>\n",
       "      <td>unknown</td>\n",
       "      <td>unknown</td>\n",
       "      <td>3</td>\n",
       "      <td></td>\n",
       "      <td>100</td>\n",
       "      <td>ZNE</td>\n",
       "    </tr>\n",
       "    <tr>\n",
       "      <th>6</th>\n",
       "      <td>6</td>\n",
       "      <td>1405.0</td>\n",
       "      <td>5.745947</td>\n",
       "      <td>31.253961</td>\n",
       "      <td>-103.559968</td>\n",
       "      <td>1.405379</td>\n",
       "      <td>2019-04-03T05:06:24.699035Z</td>\n",
       "      <td>825.0</td>\n",
       "      <td>2019-04-03T05:06:28.181712Z</td>\n",
       "      <td>0.4</td>\n",
       "      <td>...</td>\n",
       "      <td>earthquake_local</td>\n",
       "      <td>texnet2019gmmk_PCOS_EV</td>\n",
       "      <td>train</td>\n",
       "      <td>bucket268$418,:3,:6000</td>\n",
       "      <td>unknown</td>\n",
       "      <td>unknown</td>\n",
       "      <td>3</td>\n",
       "      <td></td>\n",
       "      <td>100</td>\n",
       "      <td>ZNE</td>\n",
       "    </tr>\n",
       "    <tr>\n",
       "      <th>7</th>\n",
       "      <td>7</td>\n",
       "      <td>747.0</td>\n",
       "      <td>2.943774</td>\n",
       "      <td>31.406310</td>\n",
       "      <td>-103.521052</td>\n",
       "      <td>1.636805</td>\n",
       "      <td>2019-04-03T07:05:54.237476Z</td>\n",
       "      <td>611.0</td>\n",
       "      <td>2019-04-03T07:05:55.123389Z</td>\n",
       "      <td>0.1</td>\n",
       "      <td>...</td>\n",
       "      <td>earthquake_local</td>\n",
       "      <td>texnet2019gmqi_PCOS_EV</td>\n",
       "      <td>train</td>\n",
       "      <td>bucket268$424,:3,:6000</td>\n",
       "      <td>unknown</td>\n",
       "      <td>D</td>\n",
       "      <td>4</td>\n",
       "      <td></td>\n",
       "      <td>100</td>\n",
       "      <td>ZNE</td>\n",
       "    </tr>\n",
       "    <tr>\n",
       "      <th>8</th>\n",
       "      <td>8</td>\n",
       "      <td>960.0</td>\n",
       "      <td>5.797363</td>\n",
       "      <td>31.296690</td>\n",
       "      <td>-103.618409</td>\n",
       "      <td>2.109441</td>\n",
       "      <td>2019-04-03T21:30:03.889751Z</td>\n",
       "      <td>414.0</td>\n",
       "      <td>2019-04-03T21:30:07.163288Z</td>\n",
       "      <td>0.2</td>\n",
       "      <td>...</td>\n",
       "      <td>earthquake_local</td>\n",
       "      <td>texnet2019gnsv_PCOS_EV</td>\n",
       "      <td>test</td>\n",
       "      <td>bucket267$998,:3,:6000</td>\n",
       "      <td>unknown</td>\n",
       "      <td>unknown</td>\n",
       "      <td>3</td>\n",
       "      <td></td>\n",
       "      <td>100</td>\n",
       "      <td>ZNE</td>\n",
       "    </tr>\n",
       "    <tr>\n",
       "      <th>9</th>\n",
       "      <td>9</td>\n",
       "      <td>1147.0</td>\n",
       "      <td>5.360327</td>\n",
       "      <td>31.377796</td>\n",
       "      <td>-103.479209</td>\n",
       "      <td>1.944866</td>\n",
       "      <td>2019-04-04T17:08:35.427523Z</td>\n",
       "      <td>899.0</td>\n",
       "      <td>2019-04-04T17:08:36.990751Z</td>\n",
       "      <td>0.1</td>\n",
       "      <td>...</td>\n",
       "      <td>earthquake_local</td>\n",
       "      <td>texnet2019gpfs_PCOS_EV</td>\n",
       "      <td>train</td>\n",
       "      <td>bucket268$484,:3,:6000</td>\n",
       "      <td>unknown</td>\n",
       "      <td>U</td>\n",
       "      <td>4</td>\n",
       "      <td></td>\n",
       "      <td>100</td>\n",
       "      <td>ZNE</td>\n",
       "    </tr>\n",
       "  </tbody>\n",
       "</table>\n",
       "<p>10 rows × 28 columns</p>\n",
       "</div>"
      ],
      "text/plain": [
       "   index  trace_coda_end_sample  source_depth_km  source_latitude_deg  \\\n",
       "0      0                 1530.0         5.643115            31.244769   \n",
       "1      1                  646.0         3.072314            31.445149   \n",
       "2      2                 1357.0         6.157275            31.274182   \n",
       "3      3                 1602.0         5.540283            31.253961   \n",
       "4      4                  959.0         6.131567            31.250054   \n",
       "5      5                 1021.0         5.643115            31.256718   \n",
       "6      6                 1405.0         5.745947            31.253961   \n",
       "7      7                  747.0         2.943774            31.406310   \n",
       "8      8                  960.0         5.797363            31.296690   \n",
       "9      9                 1147.0         5.360327            31.377796   \n",
       "\n",
       "   source_longitude_deg  source_magnitude           source_origin_time  \\\n",
       "0           -103.553538          1.413654  2019-04-02T03:34:48.725819Z   \n",
       "1           -103.586818          1.343138  2019-04-02T15:44:47.758892Z   \n",
       "2           -103.572833          1.532322  2019-04-03T00:19:32.460730Z   \n",
       "3           -103.559968          2.021868  2019-04-03T02:49:31.391207Z   \n",
       "4           -103.556485          1.866408  2019-04-03T04:07:27.403390Z   \n",
       "5           -103.544963          1.864792  2019-04-03T04:49:40.161684Z   \n",
       "6           -103.559968          1.405379  2019-04-03T05:06:24.699035Z   \n",
       "7           -103.521052          1.636805  2019-04-03T07:05:54.237476Z   \n",
       "8           -103.618409          2.109441  2019-04-03T21:30:03.889751Z   \n",
       "9           -103.479209          1.944866  2019-04-04T17:08:35.427523Z   \n",
       "\n",
       "   trace_p_arrival_sample         trace_p_arrival_time  \\\n",
       "0                  1034.0  2019-04-02T03:34:52.621560Z   \n",
       "1                   398.0  2019-04-02T15:44:49.774274Z   \n",
       "2                   863.0  2019-04-03T00:19:35.861650Z   \n",
       "3                   962.0  2019-04-03T02:49:34.487029Z   \n",
       "4                   427.0  2019-04-03T04:07:31.281541Z   \n",
       "5                   435.0  2019-04-03T04:49:43.337664Z   \n",
       "6                   825.0  2019-04-03T05:06:28.181712Z   \n",
       "7                   611.0  2019-04-03T07:05:55.123389Z   \n",
       "8                   414.0  2019-04-03T21:30:07.163288Z   \n",
       "9                   899.0  2019-04-04T17:08:36.990751Z   \n",
       "\n",
       "   trace_p_arrival_uncertainty_s  ...    trace_category  \\\n",
       "0                            0.2  ...  earthquake_local   \n",
       "1                            0.2  ...  earthquake_local   \n",
       "2                            0.3  ...  earthquake_local   \n",
       "3                            0.3  ...  earthquake_local   \n",
       "4                            0.2  ...  earthquake_local   \n",
       "5                            0.4  ...  earthquake_local   \n",
       "6                            0.4  ...  earthquake_local   \n",
       "7                            0.1  ...  earthquake_local   \n",
       "8                            0.2  ...  earthquake_local   \n",
       "9                            0.1  ...  earthquake_local   \n",
       "\n",
       "      trace_name_original  split              trace_name  trace_causal  \\\n",
       "0  texnet2019gknw_PCOS_EV  train  bucket268$338,:3,:6000       unknown   \n",
       "1  texnet2019glly_PCOS_EV  train  bucket268$343,:3,:6000       unknown   \n",
       "2  texnet2019gmcy_PCOS_EV   test  bucket267$962,:3,:6000       unknown   \n",
       "3  texnet2019gmhw_PCOS_EV  train  bucket268$388,:3,:6000       unknown   \n",
       "4  texnet2019gmkl_PCOS_EV  train  bucket268$401,:3,:6000       unknown   \n",
       "5  texnet2019gmlv_PCOS_EV  train  bucket268$412,:3,:6000       unknown   \n",
       "6  texnet2019gmmk_PCOS_EV  train  bucket268$418,:3,:6000       unknown   \n",
       "7  texnet2019gmqi_PCOS_EV  train  bucket268$424,:3,:6000       unknown   \n",
       "8  texnet2019gnsv_PCOS_EV   test  bucket267$998,:3,:6000       unknown   \n",
       "9  texnet2019gpfs_PCOS_EV  train  bucket268$484,:3,:6000       unknown   \n",
       "\n",
       "   trace_polarity  ID_poligono trace_chunk trace_sampling_rate_hz  \\\n",
       "0         unknown            3                                100   \n",
       "1         unknown            4                                100   \n",
       "2         unknown            3                                100   \n",
       "3         unknown            3                                100   \n",
       "4         unknown            3                                100   \n",
       "5         unknown            3                                100   \n",
       "6         unknown            3                                100   \n",
       "7               D            4                                100   \n",
       "8         unknown            3                                100   \n",
       "9               U            4                                100   \n",
       "\n",
       "  trace_component_order  \n",
       "0                   ZNE  \n",
       "1                   ZNE  \n",
       "2                   ZNE  \n",
       "3                   ZNE  \n",
       "4                   ZNE  \n",
       "5                   ZNE  \n",
       "6                   ZNE  \n",
       "7                   ZNE  \n",
       "8                   ZNE  \n",
       "9                   ZNE  \n",
       "\n",
       "[10 rows x 28 columns]"
      ]
     },
     "execution_count": 7,
     "metadata": {},
     "output_type": "execute_result"
    }
   ],
   "source": [
    "data.metadata.head(10)"
   ]
  },
  {
   "cell_type": "code",
   "execution_count": 8,
   "metadata": {},
   "outputs": [
    {
     "name": "stdout",
     "output_type": "stream",
     "text": [
      "Index(['index', 'trace_coda_end_sample', 'source_depth_km',\n",
      "       'source_latitude_deg', 'source_longitude_deg', 'source_magnitude',\n",
      "       'source_origin_time', 'trace_p_arrival_sample', 'trace_p_arrival_time',\n",
      "       'trace_p_arrival_uncertainty_s', 'trace_s_arrival_sample',\n",
      "       'trace_s_arrival_time', 'trace_s_arrival_uncertainty_s', 'trace_snr_db',\n",
      "       'station_elevation_m', 'station_latitude_deg', 'station_longitude_deg',\n",
      "       'station_code', 'trace_category', 'trace_name_original', 'split',\n",
      "       'trace_name', 'trace_causal', 'trace_polarity', 'ID_poligono',\n",
      "       'trace_chunk', 'trace_sampling_rate_hz', 'trace_component_order'],\n",
      "      dtype='object')\n"
     ]
    },
    {
     "data": {
      "text/plain": [
       "0       3\n",
       "1       4\n",
       "2       3\n",
       "3       3\n",
       "4       3\n",
       "       ..\n",
       "1041    3\n",
       "1042    3\n",
       "1043    3\n",
       "1044    2\n",
       "1045    6\n",
       "Name: ID_poligono, Length: 1046, dtype: int64"
      ]
     },
     "execution_count": 8,
     "metadata": {},
     "output_type": "execute_result"
    }
   ],
   "source": [
    "print(data.metadata.columns)\n",
    "data.metadata[\"ID_poligono\"]"
   ]
  },
  {
   "cell_type": "markdown",
   "metadata": {},
   "source": [
    "### Cargar el Modelo"
   ]
  },
  {
   "cell_type": "code",
   "execution_count": 9,
   "metadata": {},
   "outputs": [
    {
     "name": "stdout",
     "output_type": "stream",
     "text": [
      "SeisBench model\t\tConvNQ\n",
      "\n",
      "ConvNQ(\n",
      "  (conv_layers): Sequential(\n",
      "    (0): Conv1d(3, 32, kernel_size=(3,), stride=(2,), padding=(1,))\n",
      "    (1): ReLU()\n",
      "    (2): Conv1d(32, 32, kernel_size=(3,), stride=(2,), padding=(1,))\n",
      "    (3): ReLU()\n",
      "    (4): Conv1d(32, 32, kernel_size=(3,), stride=(2,), padding=(1,))\n",
      "    (5): ReLU()\n",
      "    (6): Conv1d(32, 32, kernel_size=(3,), stride=(2,), padding=(1,))\n",
      "    (7): ReLU()\n",
      "    (8): Conv1d(32, 32, kernel_size=(3,), stride=(2,), padding=(1,))\n",
      "    (9): ReLU()\n",
      "    (10): Conv1d(32, 32, kernel_size=(3,), stride=(2,), padding=(1,))\n",
      "    (11): ReLU()\n",
      "    (12): Conv1d(32, 32, kernel_size=(3,), stride=(2,), padding=(1,))\n",
      "    (13): ReLU()\n",
      "    (14): Conv1d(32, 32, kernel_size=(3,), stride=(2,), padding=(1,))\n",
      "    (15): ReLU()\n",
      "  )\n",
      "  (fc1): Linear(in_features=768, out_features=8, bias=True)\n",
      ")\n"
     ]
    }
   ],
   "source": [
    "model = sbm.ConvNQ(num_classes=8,input_length=6001)#Funciona a partir de num_classes=8\n",
    "print(model)"
   ]
  },
  {
   "cell_type": "markdown",
   "metadata": {},
   "source": [
    "### Separar los datos"
   ]
  },
  {
   "cell_type": "code",
   "execution_count": 10,
   "metadata": {},
   "outputs": [],
   "source": [
    "train, dev, test = data.train_dev_test()"
   ]
  },
  {
   "cell_type": "markdown",
   "metadata": {},
   "source": [
    "### Generar Pipeline"
   ]
  },
  {
   "cell_type": "markdown",
   "metadata": {},
   "source": [
    "Es necesario hace un generator por que asi es mas facil cargar los datos a la red, pues son pytorch datasets"
   ]
  },
  {
   "cell_type": "code",
   "execution_count": 11,
   "metadata": {},
   "outputs": [],
   "source": [
    "train_generator = sbg.GenericGenerator(train)\n",
    "test_generator = sbg.GenericGenerator(test)\n",
    "dev_generator = sbg.GenericGenerator(dev)"
   ]
  },
  {
   "cell_type": "code",
   "execution_count": 12,
   "metadata": {},
   "outputs": [
    {
     "name": "stdout",
     "output_type": "stream",
     "text": [
      "<class 'seisbench.generate.generator.GenericGenerator'>\n",
      "123\n",
      "{'X': array([[-384.13638944, -548.60011245, -612.88716667, ...,   44.29332608,\n",
      "          41.00698049,   97.20349551],\n",
      "       [ -15.91861406,   80.2284558 ,  160.3251092 , ..., -198.22024323,\n",
      "        -262.96597583, -312.79675264],\n",
      "       [ 249.6963852 ,  227.58526375,  208.80678419, ..., -417.83288355,\n",
      "        -333.61868878, -182.10666925]])}\n"
     ]
    }
   ],
   "source": [
    "print(type(dev_generator))\n",
    "print(len(dev_generator))\n",
    "print(dev_generator[0])"
   ]
  },
  {
   "cell_type": "code",
   "execution_count": 13,
   "metadata": {},
   "outputs": [
    {
     "data": {
      "text/plain": [
       "dict_keys(['X'])"
      ]
     },
     "execution_count": 13,
     "metadata": {},
     "output_type": "execute_result"
    }
   ],
   "source": [
    "dev_generator[0].keys()"
   ]
  },
  {
   "cell_type": "code",
   "execution_count": 14,
   "metadata": {},
   "outputs": [
    {
     "data": {
      "text/plain": [
       "(3, 6000)"
      ]
     },
     "execution_count": 14,
     "metadata": {},
     "output_type": "execute_result"
    }
   ],
   "source": [
    "dev_generator[0]['X'].shape"
   ]
  },
  {
   "cell_type": "markdown",
   "metadata": {},
   "source": [
    "#### Augmentation"
   ]
  },
  {
   "cell_type": "markdown",
   "metadata": {},
   "source": [
    "Con \"augmentation\" se puede agregar datos como picks para los traces o una clasificacion"
   ]
  },
  {
   "cell_type": "code",
   "execution_count": 15,
   "metadata": {},
   "outputs": [
    {
     "name": "stdout",
     "output_type": "stream",
     "text": [
      "{'X': array([[-2564.74671223, -2864.34034201, -2747.32305434, ...,\n",
      "         1030.97250503,  1323.74649157,  1398.18321201],\n",
      "       [  512.27768192,  -239.03769364,  -562.60586866, ...,\n",
      "          243.0166712 ,   288.61627134,   119.01541623],\n",
      "       [  892.26094363,  1440.91392095,  1487.25689782, ...,\n",
      "          180.41883344,   199.33910987,   234.60733681]]), 'y': 6}\n"
     ]
    }
   ],
   "source": [
    "#train_generator.augmentation(sbg.Normalize(detrend_axis=-1, amp_norm_axis=-1))\n",
    "#test_generator.augmentation(sbg.Normalize(detrend_axis=-1, amp_norm_axis=-1))\n",
    "#dev_generator.augmentation(sbg.Normalize(detrend_axis=-1, amp_norm_axis=-1))\n",
    "@train_generator.augmentation\n",
    "def add_zone(state_dict):\n",
    "    waveforms, metadata = state_dict[\"X\"]\n",
    "    state_dict[\"y\"] = (metadata[\"ID_poligono\"], None)\n",
    "\n",
    "@test_generator.augmentation\n",
    "def add_zone(state_dict):\n",
    "    waveforms, metadata = state_dict[\"X\"]\n",
    "    state_dict[\"y\"] = (metadata[\"ID_poligono\"], None)\n",
    "\n",
    "@dev_generator.augmentation\n",
    "def add_zone(state_dict):\n",
    "    waveforms, metadata = state_dict[\"X\"]\n",
    "    state_dict[\"y\"] = (metadata[\"ID_poligono\"], None)\n",
    "\n",
    "print(dev_generator[1])"
   ]
  },
  {
   "cell_type": "markdown",
   "metadata": {},
   "source": [
    "### Dataloaders"
   ]
  },
  {
   "cell_type": "raw",
   "metadata": {},
   "source": [
    "batch_size = 256\n",
    "num_workers = 1  # The number of threads used for loading data\n",
    "\n",
    "#worker_init_fn es principalmente usado cuando se trabaja en parallelo para que todos los \"workers\" tengan mismas condiciones \n",
    "train_loader = DataLoader(train_generator, batch_size=batch_size, shuffle=True, num_workers=num_workers, worker_init_fn=worker_seeding)\n",
    "dev_loader = DataLoader(dev_generator, batch_size=batch_size, shuffle=False, num_workers=num_workers, worker_init_fn=worker_seeding)"
   ]
  },
  {
   "cell_type": "code",
   "execution_count": 23,
   "metadata": {},
   "outputs": [],
   "source": [
    "batch_size = 256\n",
    "num_workers = 0  # The number of threads used for loading data\n",
    "\n",
    "#worker_init_fn es principalmente usado cuando se trabaja en parallelo para que todos los \"workers\" tengan mismas condiciones \n",
    "train_loader = DataLoader(train_generator, batch_size=batch_size, shuffle=True, num_workers=0)\n",
    "dev_loader = DataLoader(dev_generator, batch_size=batch_size, shuffle=False, num_workers=0)"
   ]
  },
  {
   "cell_type": "markdown",
   "metadata": {},
   "source": [
    "###  Training"
   ]
  },
  {
   "cell_type": "markdown",
   "metadata": {},
   "source": [
    "#### Prep"
   ]
  },
  {
   "cell_type": "code",
   "execution_count": 24,
   "metadata": {},
   "outputs": [],
   "source": [
    "learning_rate = 1e-2\n",
    "epochs = 5\n",
    "optimizer = torch.optim.Adam(model.parameters(), lr=learning_rate)\n",
    "#print_every = 100\n",
    "training_losses = []\n",
    "training_accs = []\n",
    "val_accuracy = []\n",
    "val_losing = []\n"
   ]
  },
  {
   "cell_type": "code",
   "execution_count": 25,
   "metadata": {},
   "outputs": [],
   "source": [
    "def train_loop(dataloader):\n",
    "    size = len(dataloader.dataset)\n",
    "    for batch_id, batch in enumerate(dataloader):\n",
    "        # Compute prediction and loss\n",
    "        pred = model.predict(batch[\"X\"].to(model.device))\n",
    "        loss = model.loss_function(torch.tensor(pred), batch[\"y\"].to(model.device))\n",
    "        \n",
    "\n",
    "        # Backpropagation\n",
    "        optimizer.zero_grad()\n",
    "        loss.backward()\n",
    "        optimizer.step()\n",
    "\n",
    "        \n",
    "        \n",
    "        #Para imprimir valores\n",
    "        if batch_id % 5 == 0:\n",
    "            loss, current = loss.item(), batch_id * batch[\"X\"].shape[0]\n",
    "            print(f\"loss: {loss:>7f}  [{current:>5d}/{size:>5d}]\")\n",
    "    training_losses.append(loss.item())\n",
    "    training_accs.append(model.accuracy(torch.tensor(pred), batch[\"y\"].to(model.device)))\n",
    "        \n",
    "\n",
    "\n",
    "def test_loop(dataloader):\n",
    "    num_batches = len(dataloader)\n",
    "    test_loss = 0\n",
    "\n",
    "    model.eval()  # close the model for evaluation\n",
    "\n",
    "    with torch.no_grad():\n",
    "        for batch in dataloader:\n",
    "            pred = model.predict(batch[\"X\"].to(model.device))\n",
    "            test_loss += model.loss_function(torch.tensor(pred), batch[\"y\"].to(model.device)).item()\n",
    "\n",
    "            \n",
    "    model.train()  # re-open model for training stage\n",
    "\n",
    "    test_loss /= num_batches\n",
    "    print(f\"Test avg loss: {test_loss:>8f} \\n\")\n",
    "    val_losing.append(test_loss)\n",
    "    val_accuracy.append(model.accuracy(torch.tensor(pred), batch[\"y\"].to(model.device)))\n"
   ]
  },
  {
   "cell_type": "code",
   "execution_count": 26,
   "metadata": {},
   "outputs": [
    {
     "data": {
      "text/plain": [
       "<enumerate at 0x2a50f65c0>"
      ]
     },
     "execution_count": 26,
     "metadata": {},
     "output_type": "execute_result"
    }
   ],
   "source": [
    "enumerate(train_loader)"
   ]
  },
  {
   "cell_type": "code",
   "execution_count": 27,
   "metadata": {},
   "outputs": [
    {
     "name": "stdout",
     "output_type": "stream",
     "text": [
      "  Inputs: torch.Size([256, 3, 6000])\n",
      "  Targets: tensor([6, 3, 1, 5, 0, 0, 4, 4, 4, 0, 3, 0, 4, 0, 4, 2, 3, 2, 7, 6, 4, 0, 1, 0,\n",
      "        6, 2, 3, 3, 5, 5, 6, 6, 5, 4, 4, 3, 0, 0, 4, 3, 0, 0, 6, 0, 6, 6, 4, 1,\n",
      "        7, 3, 3, 3, 3, 1, 4, 1, 0, 1, 0, 1, 4, 6, 3, 3, 6, 0, 0, 4, 0, 1, 3, 0,\n",
      "        0, 0, 0, 0, 0, 6, 6, 0, 4, 5, 0, 4, 4, 4, 3, 1, 0, 3, 4, 0, 5, 0, 0, 3,\n",
      "        5, 4, 4, 4, 6, 0, 3, 3, 0, 6, 4, 1, 0, 4, 3, 5, 3, 2, 0, 4, 7, 3, 4, 0,\n",
      "        0, 2, 1, 0, 2, 6, 3, 3, 0, 4, 0, 4, 6, 6, 0, 3, 0, 0, 6, 1, 4, 6, 6, 0,\n",
      "        6, 4, 1, 0, 7, 4, 6, 0, 1, 0, 1, 1, 0, 1, 0, 1, 1, 3, 3, 3, 0, 0, 3, 3,\n",
      "        4, 0, 0, 0, 4, 4, 0, 6, 4, 0, 3, 0, 4, 0, 1, 3, 1, 3, 3, 6, 0, 1, 6, 0,\n",
      "        6, 0, 7, 4, 4, 3, 4, 6, 4, 3, 4, 3, 4, 4, 7, 1, 0, 5, 0, 0, 0, 0, 4, 1,\n",
      "        4, 3, 7, 4, 0, 1, 0, 4, 3, 3, 1, 4, 0, 3, 1, 3, 4, 1, 6, 0, 4, 3, 4, 2,\n",
      "        7, 6, 1, 7, 0, 4, 4, 3, 1, 0, 4, 0, 3, 5, 5, 4])\n"
     ]
    }
   ],
   "source": [
    "for i, batch in enumerate(train_loader):\n",
    "    inputs = batch['X']\n",
    "    targets = batch['y']\n",
    "    print(f'  Inputs: {inputs.shape}')  # Dimensiones de los inputs\n",
    "    print(f'  Targets: {targets}')  # Dimensiones de las etiquetas\n",
    "    break\n",
    "        "
   ]
  },
  {
   "cell_type": "code",
   "execution_count": 28,
   "metadata": {},
   "outputs": [
    {
     "name": "stdout",
     "output_type": "stream",
     "text": [
      "Epoch 1\n",
      "-------------------------------\n",
      "Input shape: torch.Size([256, 3, 6000])\n"
     ]
    },
    {
     "name": "stderr",
     "output_type": "stream",
     "text": [
      "/Users/roberto/seisbench_ror/seisbench/seisbench/models/convnq.py:119: UserWarning: To copy construct from a tensor, it is recommended to use sourceTensor.clone().detach() or sourceTensor.clone().detach().requires_grad_(True), rather than torch.tensor(sourceTensor).\n",
      "  data_tensor = torch.tensor(data).float().to(self.device)\n"
     ]
    },
    {
     "name": "stdout",
     "output_type": "stream",
     "text": [
      "Shape after conv layers: torch.Size([256, 32, 24])\n",
      "Shape after flattening: torch.Size([256, 768])\n",
      "loss: 3.838704  [    0/  631]\n",
      "Input shape: torch.Size([256, 3, 6000])\n",
      "Shape after conv layers: torch.Size([256, 32, 24])\n",
      "Shape after flattening: torch.Size([256, 768])\n",
      "Input shape: torch.Size([119, 3, 6000])\n",
      "Shape after conv layers: torch.Size([119, 32, 24])\n",
      "Shape after flattening: torch.Size([119, 768])\n",
      "Input shape: torch.Size([123, 3, 6000])\n",
      "Shape after conv layers: torch.Size([123, 32, 24])\n",
      "Shape after flattening: torch.Size([123, 768])\n",
      "Test avg loss: 2.273028 \n",
      "\n",
      "Epoch 2\n",
      "-------------------------------\n",
      "Input shape: torch.Size([256, 3, 6000])\n",
      "Shape after conv layers: torch.Size([256, 32, 24])\n",
      "Shape after flattening: torch.Size([256, 768])\n",
      "loss: 2.270156  [    0/  631]\n",
      "Input shape: torch.Size([256, 3, 6000])\n",
      "Shape after conv layers: torch.Size([256, 32, 24])\n",
      "Shape after flattening: torch.Size([256, 768])\n",
      "Input shape: torch.Size([119, 3, 6000])\n",
      "Shape after conv layers: torch.Size([119, 32, 24])\n",
      "Shape after flattening: torch.Size([119, 768])\n",
      "Input shape: torch.Size([123, 3, 6000])\n",
      "Shape after conv layers: torch.Size([123, 32, 24])\n",
      "Shape after flattening: torch.Size([123, 768])\n",
      "Test avg loss: 2.187371 \n",
      "\n",
      "Epoch 3\n",
      "-------------------------------\n",
      "Input shape: torch.Size([256, 3, 6000])\n",
      "Shape after conv layers: torch.Size([256, 32, 24])\n",
      "Shape after flattening: torch.Size([256, 768])\n",
      "loss: 2.186293  [    0/  631]\n",
      "Input shape: torch.Size([256, 3, 6000])\n",
      "Shape after conv layers: torch.Size([256, 32, 24])\n",
      "Shape after flattening: torch.Size([256, 768])\n",
      "Input shape: torch.Size([119, 3, 6000])\n",
      "Shape after conv layers: torch.Size([119, 32, 24])\n",
      "Shape after flattening: torch.Size([119, 768])\n",
      "Input shape: torch.Size([123, 3, 6000])\n",
      "Shape after conv layers: torch.Size([123, 32, 24])\n",
      "Shape after flattening: torch.Size([123, 768])\n",
      "Test avg loss: 2.142701 \n",
      "\n",
      "Epoch 4\n",
      "-------------------------------\n",
      "Input shape: torch.Size([256, 3, 6000])\n",
      "Shape after conv layers: torch.Size([256, 32, 24])\n",
      "Shape after flattening: torch.Size([256, 768])\n",
      "loss: 2.142769  [    0/  631]\n",
      "Input shape: torch.Size([256, 3, 6000])\n",
      "Shape after conv layers: torch.Size([256, 32, 24])\n",
      "Shape after flattening: torch.Size([256, 768])\n",
      "Input shape: torch.Size([119, 3, 6000])\n",
      "Shape after conv layers: torch.Size([119, 32, 24])\n",
      "Shape after flattening: torch.Size([119, 768])\n",
      "Input shape: torch.Size([123, 3, 6000])\n",
      "Shape after conv layers: torch.Size([123, 32, 24])\n",
      "Shape after flattening: torch.Size([123, 768])\n",
      "Test avg loss: 2.151496 \n",
      "\n",
      "Epoch 5\n",
      "-------------------------------\n",
      "Input shape: torch.Size([256, 3, 6000])\n",
      "Shape after conv layers: torch.Size([256, 32, 24])\n",
      "Shape after flattening: torch.Size([256, 768])\n",
      "loss: 2.151200  [    0/  631]\n",
      "Input shape: torch.Size([256, 3, 6000])\n",
      "Shape after conv layers: torch.Size([256, 32, 24])\n",
      "Shape after flattening: torch.Size([256, 768])\n",
      "Input shape: torch.Size([119, 3, 6000])\n",
      "Shape after conv layers: torch.Size([119, 32, 24])\n",
      "Shape after flattening: torch.Size([119, 768])\n",
      "Input shape: torch.Size([123, 3, 6000])\n",
      "Shape after conv layers: torch.Size([123, 32, 24])\n",
      "Shape after flattening: torch.Size([123, 768])\n",
      "Test avg loss: 2.146366 \n",
      "\n"
     ]
    }
   ],
   "source": [
    "for t in range(epochs):\n",
    "    print(f\"Epoch {t+1}\\n-------------------------------\")\n",
    "    train_loop(train_loader)\n",
    "    test_loop(dev_loader)"
   ]
  },
  {
   "cell_type": "code",
   "execution_count": null,
   "metadata": {},
   "outputs": [],
   "source": []
  },
  {
   "cell_type": "code",
   "execution_count": 29,
   "metadata": {},
   "outputs": [
    {
     "name": "stdout",
     "output_type": "stream",
     "text": [
      "5\n",
      "5\n"
     ]
    }
   ],
   "source": [
    "print(len(training_losses))\n",
    "print(len(val_losing))\n"
   ]
  },
  {
   "cell_type": "code",
   "execution_count": 30,
   "metadata": {},
   "outputs": [
    {
     "data": {
      "text/plain": [
       "<matplotlib.legend.Legend at 0x2a5163fd0>"
      ]
     },
     "execution_count": 30,
     "metadata": {},
     "output_type": "execute_result"
    },
    {
     "data": {
      "image/png": "[encoded data removed]",
      "text/plain": [
       "<Figure size 1000x500 with 1 Axes>"
      ]
     },
     "metadata": {},
     "output_type": "display_data"
    }
   ],
   "source": [
    "plt.figure(figsize=(10,5))\n",
    "plt.plot(training_losses,label='training loss')\n",
    "plt.plot(val_losing,label='testing loss')\n",
    "plt.title(\"Training vs Test Loss\")\n",
    "plt.xlabel('Epochs')\n",
    "plt.ylabel('Loss')\n",
    "plt.legend()\n"
   ]
  },
  {
   "cell_type": "code",
   "execution_count": 63,
   "metadata": {},
   "outputs": [
    {
     "data": {
      "text/plain": [
       "Text(0, 0.5, 'Accuracy')"
      ]
     },
     "execution_count": 63,
     "metadata": {},
     "output_type": "execute_result"
    },
    {
     "data": {
      "image/png": "[encoded data removed]",
      "text/plain": [
       "<Figure size 1000x500 with 1 Axes>"
      ]
     },
     "metadata": {},
     "output_type": "display_data"
    }
   ],
   "source": [
    "plt.figure(figsize=(10,5))\n",
    "plt.plot(training_accs,label='training acc')\n",
    "plt.plot(val_accuracy,label='testing acc')\n",
    "plt.title(\"Training vs Test acc\")\n",
    "plt.legend()\n",
    "plt.xlabel('Epochs')\n",
    "plt.ylabel('Accuracy')"
   ]
  },
  {
   "cell_type": "code",
   "execution_count": 43,
   "metadata": {},
   "outputs": [
    {
     "ename": "RuntimeError",
     "evalue": "[enforce fail at inline_container.cc:642] . invalid file name: /home/jbg/Documents/geofisica_lapaz/",
     "output_type": "error",
     "traceback": [
      "\u001b[0;31m---------------------------------------------------------------------------\u001b[0m",
      "\u001b[0;31mRuntimeError\u001b[0m                              Traceback (most recent call last)",
      "Cell \u001b[0;32mIn[43], line 11\u001b[0m\n\u001b[1;32m      8\u001b[0m \u001b[38;5;66;03m# Specify the path to save the model to:\u001b[39;00m\n\u001b[1;32m      9\u001b[0m save_path \u001b[38;5;241m=\u001b[39m \u001b[38;5;124m\"\u001b[39m\u001b[38;5;124m/home/jbg/Documents/geofisica_lapaz/\u001b[39m\u001b[38;5;124m\"\u001b[39m\n\u001b[0;32m---> 11\u001b[0m torch\u001b[38;5;241m.\u001b[39msave(checkpoint,save_path)\n",
      "File \u001b[0;32m~/anaconda3/envs/6bench/lib/python3.12/site-packages/torch/serialization.py:651\u001b[0m, in \u001b[0;36msave\u001b[0;34m(obj, f, pickle_module, pickle_protocol, _use_new_zipfile_serialization, _disable_byteorder_record)\u001b[0m\n\u001b[1;32m    648\u001b[0m _check_save_filelike(f)\n\u001b[1;32m    650\u001b[0m \u001b[38;5;28;01mif\u001b[39;00m _use_new_zipfile_serialization:\n\u001b[0;32m--> 651\u001b[0m     \u001b[38;5;28;01mwith\u001b[39;00m _open_zipfile_writer(f) \u001b[38;5;28;01mas\u001b[39;00m opened_zipfile:\n\u001b[1;32m    652\u001b[0m         _save(obj, opened_zipfile, pickle_module, pickle_protocol, _disable_byteorder_record)\n\u001b[1;32m    653\u001b[0m         \u001b[38;5;28;01mreturn\u001b[39;00m\n",
      "File \u001b[0;32m~/anaconda3/envs/6bench/lib/python3.12/site-packages/torch/serialization.py:525\u001b[0m, in \u001b[0;36m_open_zipfile_writer\u001b[0;34m(name_or_buffer)\u001b[0m\n\u001b[1;32m    523\u001b[0m \u001b[38;5;28;01melse\u001b[39;00m:\n\u001b[1;32m    524\u001b[0m     container \u001b[38;5;241m=\u001b[39m _open_zipfile_writer_buffer\n\u001b[0;32m--> 525\u001b[0m \u001b[38;5;28;01mreturn\u001b[39;00m container(name_or_buffer)\n",
      "File \u001b[0;32m~/anaconda3/envs/6bench/lib/python3.12/site-packages/torch/serialization.py:496\u001b[0m, in \u001b[0;36m_open_zipfile_writer_file.__init__\u001b[0;34m(self, name)\u001b[0m\n\u001b[1;32m    494\u001b[0m     \u001b[38;5;28msuper\u001b[39m()\u001b[38;5;241m.\u001b[39m\u001b[38;5;21m__init__\u001b[39m(torch\u001b[38;5;241m.\u001b[39m_C\u001b[38;5;241m.\u001b[39mPyTorchFileWriter(\u001b[38;5;28mself\u001b[39m\u001b[38;5;241m.\u001b[39mfile_stream))\n\u001b[1;32m    495\u001b[0m \u001b[38;5;28;01melse\u001b[39;00m:\n\u001b[0;32m--> 496\u001b[0m     \u001b[38;5;28msuper\u001b[39m()\u001b[38;5;241m.\u001b[39m\u001b[38;5;21m__init__\u001b[39m(torch\u001b[38;5;241m.\u001b[39m_C\u001b[38;5;241m.\u001b[39mPyTorchFileWriter(\u001b[38;5;28mself\u001b[39m\u001b[38;5;241m.\u001b[39mname))\n",
      "\u001b[0;31mRuntimeError\u001b[0m: [enforce fail at inline_container.cc:642] . invalid file name: /home/jbg/Documents/geofisica_lapaz/"
     ]
    }
   ],
   "source": [
    "#save the model\n",
    "checkpoint = {\n",
    "    'epoch': epochs+1,\n",
    "    'model_state_dict': model.state_dict(),\n",
    "    'optimizer_state_dict': optimizer.state_dict(),\n",
    "   \n",
    "}\n",
    "# Specify the path to save the model to:\n",
    "save_path = \"/home/jbg/Documents/geofisica_lapaz/\"\n",
    "\n",
    "torch.save(checkpoint,save_path)"
   ]
  }
 ],
 "metadata": {
  "kernelspec": {
   "display_name": "seisbench",
   "language": "python",
   "name": "seisbench"
  },
  "language_info": {
   "codemirror_mode": {
    "name": "ipython",
    "version": 3
   },
   "file_extension": ".py",
   "mimetype": "text/x-python",
   "name": "python",
   "nbconvert_exporter": "python",
   "pygments_lexer": "ipython3",
   "version": "3.10.14"
  }
 },
 "nbformat": 4,
 "nbformat_minor": 4
}
